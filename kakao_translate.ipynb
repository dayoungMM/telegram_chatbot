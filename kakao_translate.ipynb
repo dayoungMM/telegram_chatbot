{
 "cells": [
  {
   "cell_type": "code",
   "execution_count": 43,
   "metadata": {},
   "outputs": [
    {
     "name": "stdout",
     "output_type": "stream",
     "text": [
      "<Response [200]>\n"
     ]
    }
   ],
   "source": [
    "\n",
    "import requests\n",
    "from flask import Flask , render_template, request\n",
    "from bs4 import BeautifulSoup\n",
    "# query= \"이것은 기린입니다\"    \n",
    "headers = {\n",
    "            \"Host\": \"kapi.kakao.com\",\n",
    "            \"Authorization\": \"KakaoAK e85e7f7718701e158bc96ae1a736a64e\"\n",
    "    \n",
    "        }\n",
    "\n",
    "# print(query)\n",
    "response=requests.get('https://kapi.kakao.com/v1/translation/translate?src_lang=kr&target_lang=en&query=이것은기린입니다',headers=headers)\n",
    "print(response)\n",
    "        "
   ]
  },
  {
   "cell_type": "code",
   "execution_count": 52,
   "metadata": {},
   "outputs": [
    {
     "data": {
      "text/plain": [
       "['This is a giraffe']"
      ]
     },
     "execution_count": 52,
     "metadata": {},
     "output_type": "execute_result"
    }
   ],
   "source": [
    "text=response.json()['translated_text'][0]\n",
    "text"
   ]
  },
  {
   "cell_type": "code",
   "execution_count": 6,
   "metadata": {},
   "outputs": [
    {
     "name": "stdout",
     "output_type": "stream",
     "text": [
      "대화를 입력해주세요: 아니야\n"
     ]
    }
   ],
   "source": [
    "text = input(\"대화를 입력해주세요: \")\n",
    "\n",
    "\n",
    "if text ==\"번역\":\n",
    "    reply = input(\"무엇을 번역하시겠습니까?: \")\n",
    "    def telegram(reply):\n",
    "        translated = \"번역된문장\"\n",
    "        return translated\n",
    "    translated = telegram(reply)\n",
    "    print(translated)\n"
   ]
  },
  {
   "cell_type": "code",
   "execution_count": null,
   "metadata": {},
   "outputs": [],
   "source": []
  }
 ],
 "metadata": {
  "kernelspec": {
   "display_name": "Python 3",
   "language": "python",
   "name": "python3"
  },
  "language_info": {
   "codemirror_mode": {
    "name": "ipython",
    "version": 3
   },
   "file_extension": ".py",
   "mimetype": "text/x-python",
   "name": "python",
   "nbconvert_exporter": "python",
   "pygments_lexer": "ipython3",
   "version": "3.7.4"
  }
 },
 "nbformat": 4,
 "nbformat_minor": 2
}
